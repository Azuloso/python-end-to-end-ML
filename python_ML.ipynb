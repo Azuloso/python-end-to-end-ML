{
 "cells": [
  {
   "cell_type": "markdown",
   "metadata": {},
   "source": [
    "# Attribution:\n",
    "\n",
    "Data Source: http://archive.ics.uci.edu/ml/datasets/Bank+Marketing"
   ]
  },
  {
   "cell_type": "markdown",
   "metadata": {},
   "source": [
    "# Jupyter Notebook Markup Language Editing\n",
    "\n",
    "Source: https://medium.com/ibm-data-science-experience/markdown-for-jupyter-notebooks-cheatsheet-386c05aeebed"
   ]
  },
  {
   "cell_type": "markdown",
   "metadata": {},
   "source": [
    "experiment = dataset + code + hyperparameters + compute environment + results"
   ]
  },
  {
   "cell_type": "markdown",
   "metadata": {},
   "source": [
    "### <b> Open Source Projects of Interest </b>\n",
    "\n",
    "- <b> Databricks Mlflow </b>\n",
    "\n",
    "Source: https://mlflow.org/\n",
    "\n",
    "- <b> Airbnb's Knowledge Repository </b>\n",
    "\n",
    "As an organization grows, how do we make sure that an insight uncovered by one person effectively transfers beyond the targeted recipient? Internally, we call this scaling knowledge.\n",
    "\n",
    "Source: https://airbnb.io/projects/knowledge-repo/\n",
    "\n",
    "- <b> Uber's Manifold </b>\n",
    "\n",
    "Source: https://eng.uber.com/manifold/\n",
    "\n",
    "- <b> Uber's casualML Uplift Modelling Package </b>\n",
    "\n",
    "Source: https://github.com/uber/causalml"
   ]
  },
  {
   "cell_type": "markdown",
   "metadata": {},
   "source": [
    "# 1. Load Libraries"
   ]
  },
  {
   "cell_type": "code",
   "execution_count": 1,
   "metadata": {},
   "outputs": [],
   "source": [
    "import helper as hlp"
   ]
  },
  {
   "cell_type": "code",
   "execution_count": 2,
   "metadata": {},
   "outputs": [],
   "source": [
    "import numpy as np\n",
    "import pandas as pd\n",
    "\n",
    "import matplotlib.pyplot as plt\n",
    "plt.style.use(\"ggplot\")"
   ]
  },
  {
   "cell_type": "code",
   "execution_count": 3,
   "metadata": {},
   "outputs": [],
   "source": [
    "%matplotlib inline"
   ]
  },
  {
   "cell_type": "code",
   "execution_count": 4,
   "metadata": {},
   "outputs": [],
   "source": [
    "# visualisations\n",
    "\n",
    "import matplotlib.pyplot as plt\n",
    "plt.style.use(\"ggplot\")\n",
    "\n",
    "import seaborn as sns"
   ]
  },
  {
   "cell_type": "code",
   "execution_count": 5,
   "metadata": {},
   "outputs": [],
   "source": [
    "# data exploration\n",
    "\n",
    "# from imblearn.over_sampling import SMOTE"
   ]
  },
  {
   "cell_type": "code",
   "execution_count": 6,
   "metadata": {},
   "outputs": [],
   "source": [
    "# robust statistics\n",
    "\n",
    "from scipy import stats\n",
    "from scipy import stats as sp\n",
    "\n",
    "# test for collinearity\n",
    "\n",
    "from patsy import dmatrices\n",
    "import statsmodels.api as sm\n",
    "from statsmodels.stats.outliers_influence import variance_inflation_factor"
   ]
  },
  {
   "cell_type": "code",
   "execution_count": 7,
   "metadata": {},
   "outputs": [],
   "source": [
    "# feature engineering\n",
    "\n",
    "# import featuretools as ft"
   ]
  },
  {
   "cell_type": "code",
   "execution_count": 8,
   "metadata": {},
   "outputs": [],
   "source": [
    "from sklearn.base import BaseEstimator, TransformerMixin\n",
    "from sklearn.preprocessing import Imputer"
   ]
  },
  {
   "cell_type": "code",
   "execution_count": 9,
   "metadata": {},
   "outputs": [],
   "source": [
    "# feature selection\n",
    "\n",
    "# from mlxtend.feature_selection import SequentialFeatureSelector as sfs\n",
    "from sklearn.feature_selection import RFE\n",
    "from sklearn.feature_selection import SelectKBest, chi2, f_classif\n",
    "\n",
    "from sklearn import svm\n",
    "from sklearn.datasets import make_classification\n",
    "from sklearn.model_selection import KFold \n",
    "from sklearn.feature_selection import SelectKBest, f_regression\n",
    "from sklearn.pipeline import make_pipeline"
   ]
  },
  {
   "cell_type": "code",
   "execution_count": 88,
   "metadata": {},
   "outputs": [],
   "source": [
    "# pre-processing\n",
    "\n",
    "from sklearn.preprocessing import MinMaxScaler\n",
    "from sklearn.preprocessing import StandardScaler\n",
    "from sklearn.preprocessing import RobustScaler\n",
    "\n",
    "from sklearn.preprocessing import LabelBinarizer\n",
    "\n",
    "from sklearn.preprocessing import PowerTransformer\n",
    "\n",
    "# shuffle dataframe dataset\n",
    "from sklearn.utils import shuffle"
   ]
  },
  {
   "cell_type": "code",
   "execution_count": 11,
   "metadata": {},
   "outputs": [],
   "source": [
    "# model building\n",
    "\n",
    "# import library for naive bayes\n",
    "import sklearn.naive_bayes as nb\n",
    "\n",
    "# import library for logistic regression\n",
    "from sklearn.linear_model import LogisticRegression as lr\n",
    "\n",
    "# import library for decision tree\n",
    "from sklearn import tree\n",
    "\n",
    "from sklearn.linear_model import SGDClassifier\n",
    "\n",
    "# import library for random forest\n",
    "from sklearn.ensemble import RandomForestClassifier\n",
    "from sklearn.ensemble import ExtraTreesClassifier\n",
    "\n",
    "from sklearn import cluster as c1"
   ]
  },
  {
   "cell_type": "code",
   "execution_count": 77,
   "metadata": {},
   "outputs": [],
   "source": [
    "# from imblearn.ensemble import BalancedBaggingClassifier\n",
    "\n",
    "from sklearn import decomposition\n",
    "from sklearn.pipeline import Pipeline\n",
    "from sklearn.model_selection import GridSearchCV, RandomizedSearchCV, cross_val_score, train_test_split, StratifiedKFold\n",
    "\n",
    "from sklearn.metrics import confusion_matrix, balanced_accuracy_score, roc_curve, precision_recall_curve, auc, make_scorer, precision_score,recall_score, accuracy_score, f1_score\n",
    "from sklearn.datasets import make_classification\n",
    "from sklearn.model_selection import cross_val_score"
   ]
  },
  {
   "cell_type": "code",
   "execution_count": 14,
   "metadata": {},
   "outputs": [],
   "source": [
    "# Abstracted Terminology in Machine Learning\n",
    "\n",
    "# Estimators\n",
    "# Optimisers\n",
    "# Learners\n",
    "# Classifiers\n",
    "# Regressors\n",
    "# Predictors\n",
    "# Scalers\n",
    "# Transformers\n",
    "# Normalizers\n",
    "# Selectors"
   ]
  },
  {
   "cell_type": "markdown",
   "metadata": {},
   "source": [
    "# 2. Import Data"
   ]
  },
  {
   "cell_type": "code",
   "execution_count": 15,
   "metadata": {},
   "outputs": [],
   "source": [
    "# input data\n",
    "\n",
    "r_filename = 'bank_contacts.csv'\n",
    "\n",
    "# read the data\n",
    "\n",
    "data = pd.read_csv(r_filename)"
   ]
  },
  {
   "cell_type": "code",
   "execution_count": 16,
   "metadata": {},
   "outputs": [],
   "source": [
    "Target = data['credit_application']"
   ]
  },
  {
   "cell_type": "markdown",
   "metadata": {},
   "source": [
    "# <u> Part 1 </u>"
   ]
  },
  {
   "cell_type": "markdown",
   "metadata": {},
   "source": [
    "# 3. Exploratory Data Analysis (EDA)\n",
    "\n",
    "Exploratory Data Analysis (EDA) is the process of exploring and understanding your data to find patterns, relationships, or anomalies to inform subsequent analysis.\n",
    "\n",
    "Source: https://towardsdatascience.com/visualizing-data-with-pair-plots-in-python-f228cf529166"
   ]
  },
  {
   "cell_type": "code",
   "execution_count": 17,
   "metadata": {},
   "outputs": [
    {
     "data": {
      "text/plain": [
       "(41188, 60)"
      ]
     },
     "execution_count": 17,
     "metadata": {},
     "output_type": "execute_result"
    }
   ],
   "source": [
    "data.describe()\n",
    "data.shape"
   ]
  },
  {
   "cell_type": "markdown",
   "metadata": {},
   "source": [
    "## EDA: Separate Variable Types"
   ]
  },
  {
   "cell_type": "code",
   "execution_count": 18,
   "metadata": {},
   "outputs": [],
   "source": [
    "# this code is taken from an Udemy online course Deployment of Machine Learning Models\n",
    "\n",
    "class FeaturePreparer:\n",
    "    '''\n",
    "        when we call the Feature preparer for the first time\n",
    "        we initialise it with the training data set, which is \n",
    "        then stored as an attribute(raw_data)\n",
    "    '''\n",
    "    def __init__(self, raw_data: pd.DataFrame):\n",
    "        self.raw_data = raw_data\n",
    "        self.prepared_data = None\n",
    "        self.X_train = None\n",
    "        self.X_test = None\n",
    "        self.y_train = None\n",
    "        self.y_test = None\n",
    "        self.continuous = None\n",
    "        self.categorical = None\n",
    "        self.discrete = None\n",
    "        self.encoding_dict = {}\n",
    "\n",
    "    def separate_variable_types(self) -> None:\n",
    "        '''\n",
    "            find categorical variables\n",
    "        '''\n",
    "        self.categorical = [\n",
    "            var for var in self.raw_data.columns\n",
    "            if self.raw_data[var].dtype == 'O'\n",
    "        ]\n",
    "        print('There are {} categorical variables'.format(len(self.categorical)))\n",
    "\n",
    "        # find numerical variables\n",
    "        # this should be done based off training data\n",
    "        numerical = [var for var in self.raw_data.columns\n",
    "                     if self.raw_data[var].dtype != 'O']\n",
    "        print('There are {} numerical variables'.format(len(numerical)))\n",
    "\n",
    "        # find discrete variables\n",
    "        # this should be done based off training data, i.e., self.raw_data\n",
    "        self.discrete = []\n",
    "        for var in numerical:\n",
    "            if len(self.raw_data[var].unique()) < 20:\n",
    "                self.discrete.append(var)\n",
    "\n",
    "        print('There are {} discrete variables'.format(len(self.discrete)))\n",
    "\n",
    "        self.continuous = [\n",
    "            var for var in numerical if\n",
    "            var not in self.discrete and var not in ['Id', 'SalePrice']\n",
    "        ]\n",
    "        \n",
    "    def split_data(self, *, training: bool = False) -> None:\n",
    "        # if we are training for the first time, training = True, \n",
    "        # then divide into train and test\n",
    "        if training:\n",
    "            return\n",
    "        self.X_train, self.X_test, self.y_train, self.y_test = train_test_split(\n",
    "            self.prepared_data, self.prepared_data.SalePrice, test_size=0.2, random_state=0)\n",
    "\n",
    "        print(self.X_train.shape, self.X_test.shape)"
   ]
  },
  {
   "cell_type": "code",
   "execution_count": 19,
   "metadata": {},
   "outputs": [],
   "source": [
    "# handle missing data\n",
    "# rare imputation\n",
    "# encode categorical variables\n",
    "# prepare data"
   ]
  },
  {
   "cell_type": "code",
   "execution_count": 20,
   "metadata": {},
   "outputs": [
    {
     "name": "stdout",
     "output_type": "stream",
     "text": [
      "There are 0 categorical variables\n",
      "There are 60 numerical variables\n",
      "There are 54 discrete variables\n"
     ]
    }
   ],
   "source": [
    "C = FeaturePreparer(data)\n",
    "\n",
    "C.separate_variable_types()"
   ]
  },
  {
   "cell_type": "markdown",
   "metadata": {},
   "source": [
    "## EDA: Data Visualisation\n",
    "\n",
    "Source: https://stackabuse.com/seaborn-library-for-data-visualization-in-python-part-1/"
   ]
  },
  {
   "cell_type": "code",
   "execution_count": 21,
   "metadata": {},
   "outputs": [
    {
     "data": {
      "text/plain": [
       "<matplotlib.axes._subplots.AxesSubplot at 0x1f2d03d4f60>"
      ]
     },
     "execution_count": 21,
     "metadata": {},
     "output_type": "execute_result"
    },
    {
     "data": {
      "image/png": "[encoded data removed]",
      "text/plain": [
       "<Figure size 432x288 with 1 Axes>"
      ]
     },
     "metadata": {},
     "output_type": "display_data"
    }
   ],
   "source": [
    "# output bar chart\n",
    "\n",
    "sns.countplot(x='credit_application', data=data)"
   ]
  },
  {
   "cell_type": "markdown",
   "metadata": {},
   "source": [
    "## EDA: Missing Values"
   ]
  },
  {
   "cell_type": "code",
   "execution_count": 22,
   "metadata": {},
   "outputs": [
    {
     "data": {
      "text/plain": [
       "n_age             0\n",
       "n_duration        0\n",
       "n_pdays           0\n",
       "n_previous        0\n",
       "n_emp_var_rate    0\n",
       "dtype: int64"
      ]
     },
     "execution_count": 22,
     "metadata": {},
     "output_type": "execute_result"
    }
   ],
   "source": [
    "# Count all NaN in a DataFrame (both columns & Rows)\n",
    "data.isnull().sum().sum()\n",
    "\n",
    "# Count total NaN at each column in DataFrame\n",
    "data.isnull().sum().head()"
   ]
  },
  {
   "cell_type": "code",
   "execution_count": 23,
   "metadata": {},
   "outputs": [],
   "source": [
    "# this code is taken from Udemy online course Deployment of Machine Learning Models\n",
    "\n",
    "def handle_missing_values(self):\n",
    "    \n",
    "    '''\n",
    "        fills NA in all required variables\n",
    "    '''\n",
    "    \n",
    "    for col in self.continuous:\n",
    "        if self.prepared_data.loc[:, (col)].isnull().mean() > 0:\n",
    "            # get the mean value from the training data, i.e., self.raw_data\n",
    "            mean_val = self.raw_data.loc[:, (col)].mean()\n",
    "            # replace it in the data to be passed to the model, i.e., self.prepared_data\n",
    "            self.prepared_data[col].fillna(mean_val, inplace=True)\n",
    "\n",
    "    # add label indicating 'Missing' to categorical variables\n",
    "    for var in self.categorical:\n",
    "        # replace NA in all categorical variables to be passed to the model\n",
    "        self.prepared_data[var].fillna('Missing', inplace=True)"
   ]
  },
  {
   "cell_type": "markdown",
   "metadata": {},
   "source": [
    "## EDA: Imbalanced Datasets\n",
    "\n",
    "\n",
    "An imbalanced dataset is one where the number of observations belonging to one group or class is significantly higher than those belonging to the other classes.\n",
    "\n",
    "Machine Learning algorithms are very likely to produce faulty classifiers when they are trained with imbalanced datasets. These algorithms tend to show a bias for the majority class, treating the minority class as a noise in the dataset. With many standard classifier algorithms, such as Logistic Regression, Naive Bayes and Decision Trees, there is a likelihood of the wrong classification of the minority class.\n",
    "\n",
    "#### Methods of Handling Imbalanced Datasets\n",
    "\n",
    "Oversampling: This method involves reducing or eliminating the imbalance in the dataset by replicating or creating new observations of the minority class. \n",
    "\n",
    "#### Oversampling Techniques:\n",
    "\n",
    "1. Random Oversampling\n",
    "2. Cluster-Based Oversampling\n",
    "3. Synthetic Oversampling\n",
    "4. Modified Synthetic Oversampling\n",
    "\n",
    "#### Undersampling Techniques:\n",
    "\n",
    "1. Random Undersampling\n",
    "\n",
    "Source: https://medium.com/coinmonks/handling-imbalanced-datasets-predicting-credit-card-fraud-544f5e74e0fd\n",
    "\n",
    "Source: https://www.datacamp.com/community/tutorials/diving-deep-imbalanced-data"
   ]
  },
  {
   "cell_type": "code",
   "execution_count": 24,
   "metadata": {},
   "outputs": [
    {
     "data": {
      "image/png": "[encoded data removed]",
      "text/plain": [
       "<Figure size 576x576 with 1 Axes>"
      ]
     },
     "metadata": {},
     "output_type": "display_data"
    }
   ],
   "source": [
    "# Undersampling\n",
    "# sample size is manually chosen by the user\n",
    "\n",
    "# shuffle the dataset and select n observations\n",
    "shuffled_df = data.sample(n=40000,random_state=4, replace=True)\n",
    "\n",
    "# Put all the credit_application in a separate dataset.\n",
    "c_app_df = shuffled_df.loc[shuffled_df['credit_application'] == 1]\n",
    "\n",
    "# Randomly select n observations from the non-fraud (majority class)\n",
    "c_non_app_df = shuffled_df.loc[shuffled_df['credit_application'] == 0].sample(n=4400,random_state=42, replace=True)\n",
    "\n",
    "# Concatenate both dataframes again\n",
    "balanced_data = pd.concat([c_app_df, c_non_app_df])\n",
    "\n",
    "# plot the dataset after the undersampling\n",
    "plt.figure(figsize=(8, 8))\n",
    "sns.countplot('credit_application', data=balanced_data)\n",
    "plt.title('Balanced Classes')\n",
    "plt.show()"
   ]
  },
  {
   "cell_type": "code",
   "execution_count": 25,
   "metadata": {},
   "outputs": [
    {
     "data": {
      "text/plain": [
       "(8929, 60)"
      ]
     },
     "execution_count": 25,
     "metadata": {},
     "output_type": "execute_result"
    }
   ],
   "source": [
    "balanced_data.shape"
   ]
  },
  {
   "cell_type": "markdown",
   "metadata": {},
   "source": [
    "## EDA: Check Collinearity of Features\n",
    "\n",
    "- Multicollinearity: Occurs when independent variables in a regression model are correlated.\n",
    "- Structural Multicollinearity:\n",
    "- Data Multicollinearity:\n",
    "\n",
    "<b> Methods to Find Collinearity </b>\n",
    "\n",
    "- Principal Component Analysis (PAC): \n",
    "- Using Variance Inflation Factor (VIF): We can determine if two independent variables are collinear with each other. \n",
    "- Analysis of Variance (ANOVA): \n",
    "\n",
    "\n",
    "<b> Notes: </b>\n",
    "\n",
    "Multicollinearity makes it difficult to ascertain how important a feature is to the target variable.\n",
    "\n",
    "Source: https://towardsdatascience.com/multicollinearity-in-data-science-c5f6c0fe6edf"
   ]
  },
  {
   "cell_type": "code",
   "execution_count": 26,
   "metadata": {},
   "outputs": [],
   "source": [
    "X = data.drop(['credit_application'], axis=1)\n",
    "y = data['credit_application']"
   ]
  },
  {
   "cell_type": "code",
   "execution_count": 27,
   "metadata": {},
   "outputs": [],
   "source": [
    "class ReduceVIF(BaseEstimator, TransformerMixin):\n",
    "    def __init__(self, thresh=10.0, impute=True, impute_strategy='median'):\n",
    "        # From looking at documentation, values between 5 and 10 are \"okay\".\n",
    "        # Above 10 is too high and so should be removed.\n",
    "        self.thresh = thresh\n",
    "        \n",
    "        # The statsmodel function will fail with NaN values, as such we have to impute them.\n",
    "        # By default we impute using the median value.\n",
    "        # This imputation could be taken out and added as part of an sklearn Pipeline.\n",
    "        if impute:\n",
    "            self.imputer = Imputer(strategy=impute_strategy)\n",
    "\n",
    "    def fit(self, X, y=None):\n",
    "        print('ReduceVIF fit')\n",
    "        if hasattr(self, 'Imputer'):\n",
    "            self.Imputer.fit(X)\n",
    "        return self\n",
    "\n",
    "    def transform(self, X, y=None):\n",
    "        print('ReduceVIF transform')\n",
    "        columns = X.columns.tolist()\n",
    "        if hasattr(self, 'Imputer'):\n",
    "            X = pd.DataFrame(self.Imputer.transform(X), columns=columns)\n",
    "        return ReduceVIF.calculate_vif(X, self.thresh)\n",
    "    \n",
    "    @staticmethod\n",
    "    def calculate_vif(X, thresh=5.0):\n",
    "        # Taken from https://stats.stackexchange.com/a/253620/53565 and modified\n",
    "        dropped=True\n",
    "        while dropped:\n",
    "            variables = X.columns\n",
    "            dropped = False\n",
    "            vif = [variance_inflation_factor(X[variables].values, X.columns.get_loc(var)) for var in X.columns]\n",
    "            \n",
    "            max_vif = max(vif)\n",
    "            if max_vif > thresh:\n",
    "                maxloc = vif.index(max_vif)\n",
    "                print(f'Dropping {X.columns[maxloc]} with vif={max_vif}')\n",
    "                X = X.drop([X.columns.tolist()[maxloc]], axis=1)\n",
    "                dropped=True\n",
    "        return X"
   ]
  },
  {
   "cell_type": "code",
   "execution_count": 28,
   "metadata": {},
   "outputs": [],
   "source": [
    "Balanced_X = balanced_data.drop(['credit_application'], axis=1)\n",
    "y = balanced_data['credit_application']"
   ]
  },
  {
   "cell_type": "code",
   "execution_count": 29,
   "metadata": {},
   "outputs": [
    {
     "name": "stdout",
     "output_type": "stream",
     "text": [
      "ReduceVIF fit\n",
      "ReduceVIF transform\n",
      "Dropping job_admin with vif=inf\n",
      "Dropping marital_divorced with vif=inf\n",
      "Dropping edu_basic_4y with vif=inf\n",
      "Dropping housing_unknown with vif=inf\n",
      "Dropping contact_cellular with vif=inf\n",
      "Dropping prev_ctc_outcome_failure with vif=inf\n",
      "Dropping month_apr with vif=inf\n",
      "Dropping n_nr_employed with vif=170.9065365312705\n",
      "Dropping n_emp_var_rate with vif=90.42046974350791\n",
      "Dropping dow_thu with vif=48.941561252071565\n",
      "Dropping n_pdays with vif=41.16610915451281\n",
      "Dropping prev_ctc_outcome_nonexistent with vif=15.064931009963574\n",
      "Dropping n_cons_price_idx with vif=11.978598814409073\n"
     ]
    }
   ],
   "source": [
    "transformer = ReduceVIF()\n",
    "\n",
    "# Iterates through specified columns in the dataset\n",
    "# Only use n columns for speed in this example\n",
    "X = transformer.fit_transform(Balanced_X[Balanced_X.columns[-60:]], y)"
   ]
  },
  {
   "cell_type": "markdown",
   "metadata": {},
   "source": [
    "## EDA: Find Empirical and Fit Theoretical Distributions to Features\n",
    "\n",
    "- Normal Distribution: This is a specific statistical distribution where a roughly equal observations fall above and below the mean, the mean and the median are the same, and there are more observations closer to the mean. The normal distribution is also known as the Gaussian distribution.\n",
    "\n",
    "Source: https://docs.pymc.io/Probability_Distributions.html\n",
    "\n",
    "Source: https://medium.com/@nsethi610/data-cleaning-scale-and-normalize-data-4a7c781dd628"
   ]
  },
  {
   "cell_type": "code",
   "execution_count": 30,
   "metadata": {},
   "outputs": [
    {
     "data": {
      "image/png": "[encoded data removed]",
      "text/plain": [
       "<Figure size 432x288 with 1 Axes>"
      ]
     },
     "metadata": {},
     "output_type": "display_data"
    }
   ],
   "source": [
    "sns.distplot(data['n_age'], kde=True, rug=True);"
   ]
  },
  {
   "cell_type": "code",
   "execution_count": 31,
   "metadata": {},
   "outputs": [],
   "source": [
    "# There are 82 distribution python packages\n",
    "\n",
    "sub_dist = ['uniform', 'norm', 'gamma', 'lognorm', 'chi2']\n",
    "dist_names = [ 'alpha', 'anglit', 'arcsine', 'beta', 'betaprime', 'bradford', \n",
    "              'burr', 'cauchy', 'chi', 'chi2', 'cosine', 'dgamma', 'dweibull', \n",
    "              'erlang', 'expon', 'exponweib', 'exponpow', 'f', 'fatiguelife', 'fisk', \n",
    "              'foldcauchy', 'foldnorm', 'frechet_r', 'frechet_l', 'genlogistic', 'genpareto', \n",
    "              'genexpon', 'genextreme', 'gausshyper', 'gamma', 'gengamma', 'genhalflogistic', 'gilbrat', \n",
    "              'gompertz', 'gumbel_r', 'gumbel_l', 'halfcauchy', 'halflogistic', 'halfnorm', 'hypsecant', \n",
    "              'invgamma', 'invgauss', 'invweibull', 'johnsonsb', 'johnsonsu', 'ksone', 'kstwobign', 'laplace', \n",
    "              'logistic', 'loggamma', 'loglaplace', 'lognorm', 'lomax', 'maxwell', 'mielke', 'nakagami', 'ncx2', \n",
    "              'ncf', 'nct', 'norm', 'pareto', 'pearson3', 'powerlaw', 'powerlognorm', 'powernorm', 'rdist', 'reciprocal', \n",
    "              'rayleigh', 'rice', 'recipinvgauss', 'semicircular', 't', 'triang', 'truncexpon', 'truncnorm', \n",
    "              'tukeylambda', 'uniform', 'vonmises', 'wald', 'weibull_min', 'weibull_max', 'wrapcauchy']"
   ]
  },
  {
   "cell_type": "code",
   "execution_count": 32,
   "metadata": {},
   "outputs": [],
   "source": [
    "# store all the python distribution packages to a python list\n",
    "\n",
    "dist_continu = [d for d in dir(stats) if\n",
    "                 isinstance(getattr(stats, d), stats.rv_continuous)]\n",
    "dist_discrete = [d for d in dir(stats) if\n",
    "                  isinstance(getattr(stats, d), stats.rv_discrete)]"
   ]
  },
  {
   "cell_type": "code",
   "execution_count": 33,
   "metadata": {},
   "outputs": [],
   "source": [
    "# create Class with methods to fit python distributions to data\n",
    "\n",
    "class Distribution(object):\n",
    "    \n",
    "    def __init__(self,dist_names_list = []):\n",
    "        self.dist_names_c = dist_continu\n",
    "        self.dist_names_d = dist_discrete\n",
    "        self.dist_results = []\n",
    "        self.params = {}\n",
    "        \n",
    "        self.DistributionName = \"\"\n",
    "        self.PValue = 0\n",
    "        self.Param = None\n",
    "        \n",
    "        self.isFitted = False\n",
    "        \n",
    "    # for continous variables\n",
    "    # finds the best fitted distribution\n",
    "    \n",
    "    def Fit_C(self, y):\n",
    "        self.dist_results = []\n",
    "        self.params = {}\n",
    "        for dist_name in self.dist_names_c:\n",
    "            dist = getattr(sp, dist_name)\n",
    "            param = dist.fit(y)\n",
    "\n",
    "            self.params[dist_name] = param\n",
    "            #Applying the Kolmogorov-Smirnov test\n",
    "            D, p = sp.stats.kstest(y, dist_name, args=param)\n",
    "            self.dist_results.append((dist_name,p))\n",
    "        #select the best fitted distribution\n",
    "        sel_dist,p = (max(self.dist_results,key=lambda item:item[1]))\n",
    "        #store the name of the best fit and its p value\n",
    "        self.DistributionName = sel_dist\n",
    "        self.PValue = p\n",
    "\n",
    "        self.isFitted = True\n",
    "        return self.DistributionName, self.PValue\n",
    "    \n",
    "    # for discrete variables\n",
    "    # finds the best fitted distribution\n",
    "\n",
    "    def Fit_D(self, y):\n",
    "        self.dist_results = []\n",
    "        self.params = {}\n",
    "        for dist_name in self.dist_names_d:\n",
    "            dist = getattr(sp, dist_name)\n",
    "            param = dist.fit(y)\n",
    "\n",
    "            self.params[dist_name] = param\n",
    "            #Applying the Kolmogorov-Smirnov test\n",
    "            D, p = sp.stats.kstest(y, dist_name, args=param)\n",
    "            self.dist_results.append((dist_name,p))\n",
    "        #select the best fitted distribution\n",
    "        sel_dist,p = (max(self.dist_results,key=lambda item:item[1]))\n",
    "        #store the name of the best fit and its p value\n",
    "        self.DistributionName = sel_dist\n",
    "        self.PValue = p\n",
    "\n",
    "        self.isFitted = True\n",
    "        return self.DistributionName, self.PValue"
   ]
  },
  {
   "cell_type": "code",
   "execution_count": 36,
   "metadata": {},
   "outputs": [
    {
     "ename": "TypeError",
     "evalue": "Fit_C() missing 1 required positional argument: 'y'",
     "output_type": "error",
     "traceback": [
      "\u001b[1;31m---------------------------------------------------------------------------\u001b[0m",
      "\u001b[1;31mTypeError\u001b[0m                                 Traceback (most recent call last)",
      "\u001b[1;32m<ipython-input-36-7b1e3782bc27>\u001b[0m in \u001b[0;36m<module>\u001b[1;34m\u001b[0m\n\u001b[0;32m      4\u001b[0m \u001b[1;33m\u001b[0m\u001b[0m\n\u001b[0;32m      5\u001b[0m \u001b[0mD\u001b[0m \u001b[1;33m=\u001b[0m \u001b[0mDistribution\u001b[0m\u001b[1;33m(\u001b[0m\u001b[1;33m)\u001b[0m\u001b[1;33m\u001b[0m\u001b[1;33m\u001b[0m\u001b[0m\n\u001b[1;32m----> 6\u001b[1;33m \u001b[0mD\u001b[0m\u001b[1;33m.\u001b[0m\u001b[0mFit_C\u001b[0m\u001b[1;33m(\u001b[0m\u001b[1;33m)\u001b[0m\u001b[1;33m\u001b[0m\u001b[1;33m\u001b[0m\u001b[0m\n\u001b[0m",
      "\u001b[1;31mTypeError\u001b[0m: Fit_C() missing 1 required positional argument: 'y'"
     ]
    }
   ],
   "source": [
    "# select a sample and output distribution\n",
    "\n",
    "s = balanced_data.sample(n=50,random_state=4, replace=True)\n",
    "\n",
    "D = Distribution()\n",
    "D.Fit_C()"
   ]
  },
  {
   "cell_type": "code",
   "execution_count": null,
   "metadata": {},
   "outputs": [],
   "source": [
    "D.Fit_C(s['n_duration'])"
   ]
  },
  {
   "cell_type": "markdown",
   "metadata": {},
   "source": [
    "## EDA: Check Skew of Feature Distributions\n",
    "\n",
    "#### Notes:\n",
    "\n",
    "- Goodness-of-fit (GOF) tests are not very informative when the sample size is very small or very large.\n",
    "- Log Transformation:\n",
    "- Cube Root Transformation: \n",
    "\n",
    "Source: https://blogs.sas.com/content/iml/2016/11/28/goodness-of-fit-large-small-samples.html"
   ]
  },
  {
   "cell_type": "code",
   "execution_count": null,
   "metadata": {},
   "outputs": [],
   "source": [
    "data['n_age'].plot.hist(bins=12, alpha=0.5)"
   ]
  },
  {
   "cell_type": "code",
   "execution_count": null,
   "metadata": {},
   "outputs": [],
   "source": [
    "# testing purposes - transform distribution of feature\n",
    "\n",
    "s = balanced_data.sample(n=500,random_state=4, replace=True)\n",
    "\n",
    "d = s['n_age']**(1/3)\n",
    "d.plot.hist(bins=12, alpha=0.5)"
   ]
  },
  {
   "cell_type": "code",
   "execution_count": null,
   "metadata": {},
   "outputs": [],
   "source": [
    "csv_desc = balanced_data.describe()\n",
    "\n",
    "csv_desc['skew'] = csv_desc.skew(numeric_only=True)"
   ]
  },
  {
   "cell_type": "code",
   "execution_count": null,
   "metadata": {},
   "outputs": [],
   "source": [
    "get_best_distribution(ss['n_age'])"
   ]
  },
  {
   "cell_type": "markdown",
   "metadata": {},
   "source": [
    "## EDA: Optimise Curve-Fitting of Distribution to Feature\n",
    "\n",
    "### Statistical Tests\n",
    "\n",
    "Source: https://towardsdatascience.com/data-science-simplified-hypothesis-testing-56e180ef2f71"
   ]
  },
  {
   "cell_type": "markdown",
   "metadata": {},
   "source": [
    "# 4. Data Preprocessing"
   ]
  },
  {
   "cell_type": "markdown",
   "metadata": {},
   "source": [
    "## Data Preprocessing: Replace Missing / NaN with Mean\n",
    "\n",
    "#### Note: \n",
    "\n",
    "The Mean is not a robust measure of central tendency due to the possibility of influence by Outliers.\n",
    "\n",
    "#### Alternatives:\n",
    "\n",
    "- Median\n",
    "\n",
    "Source: https://en.wikipedia.org/wiki/Robust_statistics"
   ]
  },
  {
   "cell_type": "code",
   "execution_count": null,
   "metadata": {},
   "outputs": [],
   "source": [
    "data.apply(lambda x: x.fillna(x.mean()),axis=0)"
   ]
  },
  {
   "cell_type": "markdown",
   "metadata": {},
   "source": [
    "## Data Preprocessing: Scaling Feature\n",
    "\n",
    "Scaling: Transforming your data so that it fits within a specific scale, like 0–100 or 0–1.\n",
    "\n",
    "- StandardScaler: Removes the mean and scales the data to unit variance. \n",
    "- MinMaxScaler: Rescales the data set such that all feature values are in the range [0, 1].\n",
    "- MaxAbsScaler: Differs from the previous scaler such that the absolute values are mapped in the range [0, 1].\n",
    "- RobustScaler: Unlike the previous scalers, the centering and scaling statistics of this scaler are based on percentiles and are therefore not influenced by a few number of very large marginal outlier.\n",
    "\n",
    "Source: https://scikit-learn.org/stable/auto_examples/preprocessing/plot_all_scaling.html#sphx-glr-auto-examples-preprocessing-plot-all-scaling-py"
   ]
  },
  {
   "cell_type": "code",
   "execution_count": null,
   "metadata": {},
   "outputs": [],
   "source": [
    "X = data\n",
    "\n",
    "distributions = [\n",
    "    ('Unscaled data', X),\n",
    "    ('Data after standard scaling',\n",
    "        StandardScaler().fit_transform(X)),\n",
    "    ('Data after min-max scaling',\n",
    "        MinMaxScaler().fit_transform(X)),\n",
    "    ('Data after max-abs scaling',\n",
    "        MaxAbsScaler().fit_transform(X)),\n",
    "    ('Data after robust scaling',\n",
    "        RobustScaler(quantile_range=(25, 75)).fit_transform(X)),\n",
    "    ('Data after power transformation (Yeo-Johnson)',\n",
    "     PowerTransformer(method='yeo-johnson').fit_transform(X)),\n",
    "    ('Data after power transformation (Box-Cox)',\n",
    "     PowerTransformer(method='box-cox').fit_transform(X)),\n",
    "    ('Data after quantile transformation (gaussian pdf)',\n",
    "        QuantileTransformer(output_distribution='normal')\n",
    "        .fit_transform(X)),\n",
    "    ('Data after quantile transformation (uniform pdf)',\n",
    "        QuantileTransformer(output_distribution='uniform')\n",
    "        .fit_transform(X)),\n",
    "    ('Data after sample-wise L2 normalizing',\n",
    "        Normalizer().fit_transform(X)),\n",
    "]"
   ]
  },
  {
   "cell_type": "code",
   "execution_count": null,
   "metadata": {},
   "outputs": [],
   "source": [
    "# Create an scaler object\n",
    "\n",
    "sc = StandardScaler()\n",
    "\n",
    "Scaler = MinMaxScaler()"
   ]
  },
  {
   "cell_type": "markdown",
   "metadata": {},
   "source": [
    "## Data Preprocessing: Transforming Feature Distribution\n",
    "\n",
    "Normalization: Change your observations so that they can be described as a normal distribution. In general, you’ll only want to normalize your data if you’re going to be using a machine learning or statistics technique that assumes your data is normally distributed.\n",
    "\n",
    "- PowerTransformer: Applies a power transformation to each feature to make the data more Gaussian-like. Currently, PowerTransformer implements the Yeo-Johnson and Box-Cox transforms.\n",
    "- QuantileTransformer (Gaussian Output):\n",
    "- QuantileTransformer (Uniform Output):\n",
    "- Normalizer: \n",
    "\n",
    "\n",
    "Refer to the type of distribution.\n",
    "\n",
    "- QuantileTransformer provides non-linear transformations in which distances between marginal outliers and inliers are shrunk. \n",
    "\n",
    "- PowerTransformer provides non-linear transformations in which data is mapped to a normal distribution to stabilize variance and minimize skewness.\n",
    "\n",
    "- On “small” datasets (less than a few hundred points), the quantile transformer is prone to overfitting. The use of the power transform is then recommended. \n",
    "\n",
    "Source: https://medium.com/@nsethi610/data-cleaning-scale-and-normalize-data-4a7c781dd628\n",
    "\n",
    "Source: https://scikit-learn.org/stable/auto_examples/preprocessing/plot_map_data_to_normal.html\n",
    "\n",
    "Source: https://towardsdatascience.com/transforming-skewed-data-73da4c2d0d16\n",
    "\n",
    "Source: https://medium.com/@ODSC/transforming-skewed-data-for-machine-learning-90e6cc364b0\n",
    "\n",
    "Source: https://datamadness.github.io/Skewness_Auto_Transform"
   ]
  },
  {
   "cell_type": "markdown",
   "metadata": {},
   "source": [
    "# 5. Feature Engineering\n",
    "\n",
    "\n",
    "- Feature Encoding (One Hot Encoding, Label Encoding): \n",
    "- Deep Feature Synthesis: \n",
    "- Memory Reduction: \n",
    "- Remove Outliers: \n",
    "- Replace / Delete NAN: \n",
    "- Combining / Splitting: \n",
    "- Normalize / Standardize: \n",
    "- Isolation Forest: \n",
    "\n",
    "Source: https://towardsdatascience.com/feature-engineering-techniques-in-python-97977ecaf6c8\n",
    "\n",
    "Source: https://www.kdnuggets.com/2019/08/4-tips-advanced-feature-engineering-preprocessing.html"
   ]
  },
  {
   "cell_type": "markdown",
   "metadata": {},
   "source": [
    "## Feature Reduction: Principal Component Analysis (PAC)"
   ]
  },
  {
   "cell_type": "code",
   "execution_count": null,
   "metadata": {},
   "outputs": [],
   "source": [
    "import sklearn.decomposition as dc"
   ]
  },
  {
   "cell_type": "code",
   "execution_count": null,
   "metadata": {},
   "outputs": [],
   "source": [
    "def reduce_PCA(x, n):\n",
    "    '''\n",
    "        Reduce the dimensions using Principal Component Analysis\n",
    "    '''\n",
    "    # create the PCA object\n",
    "    # reduce dimension to the first 'n' variables by estimating a PCA model with dc (sklearn)\n",
    "    \n",
    "    pca = dc.PCA(n_components=n, whiten=True)\n",
    "\n",
    "    # learn the principal components from all the features\n",
    "    # fit a PCA model by using input 'x' array\n",
    "    # return a pca.fit() object\n",
    "    \n",
    "    return pca.fit(x)"
   ]
  },
  {
   "cell_type": "code",
   "execution_count": null,
   "metadata": {},
   "outputs": [],
   "source": [
    "p = reduce_PCA(balanced_data, 10)"
   ]
  },
  {
   "cell_type": "code",
   "execution_count": null,
   "metadata": {},
   "outputs": [],
   "source": [
    "pc = p.transform(balanced_data)\n",
    "pc"
   ]
  },
  {
   "cell_type": "markdown",
   "metadata": {},
   "source": [
    "## Feature Selection\n",
    "\n",
    "Feature selection is a process where you automatically select those features in your data that contribute most to the prediction variable or output in which you are interested.\n",
    "\n",
    "Irrelevant or partially relevant features can negatively impact model performance.\n",
    "\n",
    "<b> Benefits of Feature Selection </b>\n",
    "\n",
    "- Reduces Overfitting: Less redundant data means less opportunity to make decisions based on noise.\n",
    "- Improves Accuracy: Less misleading data means modeling accuracy improves.\n",
    "- Reduces Training Time: Less data means that algorithms train faster.\n",
    "\n",
    "<b> Techniques </b>\n",
    "\n",
    "- Univariate Selection: Selects features that have the strongest relationship with the output variable.\n",
    "- Recursive Feature Elimination: \n",
    "- Principal Component Analysis: \n",
    "- Feature Importance: \n",
    "\n",
    "Source: https://machinelearningmastery.com/feature-selection-machine-learning-python/\n",
    "\n",
    "Source: https://towardsdatascience.com/feature-selection-techniques-in-machine-learning-with-python-f24e7da3f36e"
   ]
  },
  {
   "cell_type": "code",
   "execution_count": 37,
   "metadata": {},
   "outputs": [
    {
     "name": "stdout",
     "output_type": "stream",
     "text": [
      "Num Features: 8\n",
      "Selected Features: [False  True False  True  True False False False False False False False\n",
      " False False False False False False  True False False False False False\n",
      " False False False False False False False False  True False False False\n",
      " False  True  True False  True False False False False False]\n",
      "Feature Ranking: [ 4  1  6  1  1 19 12  5 14  3 18 21 33 28 34 11 22 37  1 38 24 35 23 31\n",
      " 13 17  2 39 27 26 15 25  1  9 36 10  8  1  1 30  1 29 20 32 16  7]\n"
     ]
    }
   ],
   "source": [
    "# feature extraction using Univariate Selection\n",
    "# select a machine learning model to create an object. In this example logistic regression is chosen.\n",
    "\n",
    "model = lr(solver='lbfgs')\n",
    "rfe = RFE(model, 8)\n",
    "fit = rfe.fit(X, y)\n",
    "\n",
    "print(\"Num Features: %d\" % fit.n_features_)\n",
    "print(\"Selected Features: %s\" % fit.support_)\n",
    "print(\"Feature Ranking: %s\" % fit.ranking_)"
   ]
  },
  {
   "cell_type": "code",
   "execution_count": null,
   "metadata": {},
   "outputs": [],
   "source": [
    "# Simple usage of Pipeline \n",
    "# that runs successively a univariate feature selection with anova and then a SVM of the selected features.\n",
    "\n",
    "X, y = make_classification(\n",
    "    n_features=20, n_informative=3, n_redundant=0, n_classes=4,\n",
    "    n_clusters_per_class=2)\n",
    "\n",
    "X_train, X_test, y_train, y_test = train_test_split(X, y, random_state=42)\n",
    "\n",
    "# ANOVA SVM-C\n",
    "# 1) anova filter, take 3 best ranked features\n",
    "anova_filter = SelectKBest(f_regression, k=3)\n",
    "# 2) svm\n",
    "clf = svm.LinearSVC()\n",
    "\n",
    "anova_svm = make_pipeline(anova_filter, clf)\n",
    "anova_svm.fit(X_train, y_train)\n",
    "y_pred = anova_svm.predict(X_test)\n",
    "print(classification_report(y_test, y_pred))\n",
    "\n",
    "coef = anova_svm[:-1].inverse_transform(anova_svm['linearsvc'].coef_)\n",
    "print(coef)"
   ]
  },
  {
   "cell_type": "code",
   "execution_count": 42,
   "metadata": {},
   "outputs": [
    {
     "data": {
      "text/html": [
       "<div>\n",
       "<style scoped>\n",
       "    .dataframe tbody tr th:only-of-type {\n",
       "        vertical-align: middle;\n",
       "    }\n",
       "\n",
       "    .dataframe tbody tr th {\n",
       "        vertical-align: top;\n",
       "    }\n",
       "\n",
       "    .dataframe thead th {\n",
       "        text-align: right;\n",
       "    }\n",
       "</style>\n",
       "<table border=\"1\" class=\"dataframe\">\n",
       "  <thead>\n",
       "    <tr style=\"text-align: right;\">\n",
       "      <th></th>\n",
       "    </tr>\n",
       "  </thead>\n",
       "  <tbody>\n",
       "    <tr>\n",
       "      <th>n_duration</th>\n",
       "    </tr>\n",
       "    <tr>\n",
       "      <th>n_previous</th>\n",
       "    </tr>\n",
       "    <tr>\n",
       "      <th>n_euribor3m</th>\n",
       "    </tr>\n",
       "    <tr>\n",
       "      <th>job_retired</th>\n",
       "    </tr>\n",
       "    <tr>\n",
       "      <th>default_unknown</th>\n",
       "    </tr>\n",
       "    <tr>\n",
       "      <th>contact_telephone</th>\n",
       "    </tr>\n",
       "    <tr>\n",
       "      <th>prev_ctc_outcome_success</th>\n",
       "    </tr>\n",
       "    <tr>\n",
       "      <th>month_mar</th>\n",
       "    </tr>\n",
       "    <tr>\n",
       "      <th>month_may</th>\n",
       "    </tr>\n",
       "    <tr>\n",
       "      <th>month_oct</th>\n",
       "    </tr>\n",
       "  </tbody>\n",
       "</table>\n",
       "</div>"
      ],
      "text/plain": [
       "Empty DataFrame\n",
       "Columns: []\n",
       "Index: [n_duration, n_previous, n_euribor3m, job_retired, default_unknown, contact_telephone, prev_ctc_outcome_success, month_mar, month_may, month_oct]"
      ]
     },
     "execution_count": 42,
     "metadata": {},
     "output_type": "execute_result"
    }
   ],
   "source": [
    "# Create and fit selector\n",
    "selector = SelectKBest(f_classif, k=10)\n",
    "selector.fit(X, y)\n",
    "\n",
    "# Get columns to keep\n",
    "cols = selector.get_support(indices=True)\n",
    "\n",
    "# Create new dataframe with only desired columns, or overwrite existing\n",
    "features_df_new = X.iloc[:,cols]\n",
    "features_df_new.head(0).T"
   ]
  },
  {
   "cell_type": "code",
   "execution_count": 39,
   "metadata": {},
   "outputs": [
    {
     "name": "stdout",
     "output_type": "stream",
     "text": [
      "                       Specs       Score\n",
      "32  prev_ctc_outcome_success  675.033761\n",
      "4                n_euribor3m  637.892378\n",
      "31         contact_telephone  423.845057\n",
      "26           default_unknown  282.587124\n",
      "38                 month_may  210.926902\n",
      "40                 month_oct  209.162464\n",
      "37                 month_mar  206.131305\n",
      "2                 n_previous  141.025529\n",
      "1                 n_duration  131.394546\n",
      "9                job_retired  116.582901\n"
     ]
    }
   ],
   "source": [
    "# apply SelectKBest class to extract top 10 best features\n",
    "bestfeatures = SelectKBest(score_func=chi2, k=10)\n",
    "fit = bestfeatures.fit(X,y)\n",
    "dfscores = pd.DataFrame(fit.scores_)\n",
    "dfcolumns = pd.DataFrame(X.columns)\n",
    "\n",
    "# concat two dataframes for better visualization\n",
    "featureScores = pd.concat([dfcolumns,dfscores],axis=1)\n",
    "featureScores.columns = ['Specs','Score']  # naming the dataframe columns\n",
    "print(featureScores.nlargest(10,'Score'))  # print 10 best features"
   ]
  },
  {
   "cell_type": "code",
   "execution_count": 43,
   "metadata": {},
   "outputs": [
    {
     "name": "stdout",
     "output_type": "stream",
     "text": [
      "[6.84291221e-02 2.58558675e-01 3.23467829e-02 3.89944591e-02\n",
      " 1.40063251e-01 1.10818557e-02 7.10885080e-03 3.69581685e-03\n",
      " 9.76045730e-03 8.43426508e-03 6.07526755e-03 8.98055376e-03\n",
      " 6.37089129e-03 1.43641208e-02 4.16316684e-03 2.60164971e-03\n",
      " 1.55694576e-02 1.39074679e-02 4.93850669e-04 5.37552358e-03\n",
      " 1.11130117e-02 1.40708907e-02 2.08403737e-04 1.01521842e-02\n",
      " 1.19124694e-02 7.41320986e-03 2.49809590e-02 0.00000000e+00\n",
      " 2.47023908e-02 3.88843370e-03 1.77587911e-02 2.31778675e-02\n",
      " 4.17205912e-02 6.16253899e-03 2.53799035e-03 7.39671127e-03\n",
      " 5.52110293e-03 1.09963822e-02 3.46468572e-02 1.06208134e-02\n",
      " 1.30421588e-02 2.76854695e-03 1.63759706e-02 1.47991055e-02\n",
      " 1.37057839e-02 1.39513492e-02]\n"
     ]
    }
   ],
   "source": [
    "# feature extraction using Feature Importance\n",
    "# select a machine learning model to create an object. In this example logistic regression is chosen.\n",
    "\n",
    "model = ExtraTreesClassifier(n_estimators=10)\n",
    "model.fit(X, y)\n",
    "print(model.feature_importances_)"
   ]
  },
  {
   "cell_type": "code",
   "execution_count": null,
   "metadata": {},
   "outputs": [],
   "source": [
    "'''\n",
    "# Build RF classifier to use in feature selection\n",
    "\n",
    "clf = RandomForestClassifier(n_estimators=100, n_jobs=-1)\n",
    "\n",
    "# Build step forward feature selection\n",
    "sfs1 = sfs(clf,\n",
    "           k_features=5,\n",
    "           forward=True,\n",
    "           floating=False,\n",
    "           verbose=2,\n",
    "           scoring='accuracy',\n",
    "           cv=5)\n",
    "\n",
    "# Perform SFFS\n",
    "sfs1 = sfs1.fit(X_train, y_train)\n",
    "'''"
   ]
  },
  {
   "cell_type": "code",
   "execution_count": null,
   "metadata": {},
   "outputs": [],
   "source": [
    "'''\n",
    "# Which features to select\n",
    "\n",
    "feat_cols = list(sfs1.k_feature_idx_)\n",
    "\n",
    "print(feat_cols)\n",
    "'''"
   ]
  },
  {
   "cell_type": "markdown",
   "metadata": {},
   "source": [
    "# <u> Part 2 </u>\n",
    "\n",
    "### Notes:\n",
    "\n",
    "#### Shortcomings of Different Machine Learning Models and How to Resolve Them\n",
    "\n",
    "- Unscaled data can also slow down or even prevent the convergence of many gradient-based estimators.\n",
    "\n",
    "- Metric-based and gradient-based estimators often assume approximately standardized data."
   ]
  },
  {
   "cell_type": "markdown",
   "metadata": {},
   "source": [
    "## Parameters of Model"
   ]
  },
  {
   "cell_type": "code",
   "execution_count": 44,
   "metadata": {},
   "outputs": [
    {
     "data": {
      "text/plain": [
       "dict_keys(['C', 'class_weight', 'dual', 'fit_intercept', 'intercept_scaling', 'l1_ratio', 'max_iter', 'multi_class', 'n_jobs', 'penalty', 'random_state', 'solver', 'tol', 'verbose', 'warm_start'])"
      ]
     },
     "execution_count": 44,
     "metadata": {},
     "output_type": "execute_result"
    }
   ],
   "source": [
    "# logistic regression\n",
    "# replace with any other python model object\n",
    "\n",
    "lr().get_params().keys()"
   ]
  },
  {
   "cell_type": "markdown",
   "metadata": {},
   "source": [
    "## Splitting Data"
   ]
  },
  {
   "cell_type": "code",
   "execution_count": null,
   "metadata": {},
   "outputs": [],
   "source": [
    "# load original dataset and split into train and test datasets\n",
    "\n",
    "train_x, train_y, test_x, test_y, labels = hlp.split_data(data, y='credit_application')\n",
    "# X_train, X_test, y_train, y_test = train_test_split(X, y, test_size=0.33, random_state=42)"
   ]
  },
  {
   "cell_type": "code",
   "execution_count": 45,
   "metadata": {},
   "outputs": [],
   "source": [
    "train_x, train_y, test_x, test_y, labels = hlp.split_data(balanced_data, y='credit_application')"
   ]
  },
  {
   "cell_type": "markdown",
   "metadata": {},
   "source": [
    "# 7. Model Building: Supervised Learning"
   ]
  },
  {
   "cell_type": "markdown",
   "metadata": {},
   "source": [
    "## Regularision: Ridge (R1), Lasso (R2) and Elastic Net\n",
    "\n",
    "To produce a more accurate model of complex data we can add a penalty term to the OLS equation. A penalty adds a bias towards certain values.\n",
    "\n",
    "Source: https://www.knime.com/blog/regularization-for-logistic-regression-l1-l2-gauss-or-laplace?utm_campaign=News&utm_medium=Community&utm_source=DataCamp.com"
   ]
  },
  {
   "cell_type": "markdown",
   "metadata": {},
   "source": [
    "### Encoding Nonlinearity\n",
    "\n",
    "<b> Feature Cross </b>: Synthetic frature that encodes nonlinearity in the feature space by multuplying two or more input features together.\n",
    "\n",
    "Source: https://developers.google.com/machine-learning/crash-course/feature-crosses/encoding-nonlinearity"
   ]
  },
  {
   "cell_type": "markdown",
   "metadata": {},
   "source": [
    "## Bayesian View of Regularisation"
   ]
  },
  {
   "cell_type": "markdown",
   "metadata": {},
   "source": [
    "## Naive Bayes"
   ]
  },
  {
   "cell_type": "code",
   "execution_count": null,
   "metadata": {},
   "outputs": [],
   "source": [
    "# define a new method and 'decorate' it with the .timeit() method in helper.py\n",
    "\n",
    "@hlp.timeit\n",
    "def fitNaiveBayes(x,y):\n",
    "    \n",
    "    '''\n",
    "        Build the Naive Bayes classifier\n",
    "    '''\n",
    "    \n",
    "    # create the classifier object; we use Gaussian NBs.\n",
    "    naiveBayes_classifier = nb.GaussianNB()\n",
    "\n",
    "    # fit the model; every classifier object has a .fit() method.\n",
    "    return naiveBayes_classifier.fit(x,y)"
   ]
  },
  {
   "cell_type": "code",
   "execution_count": null,
   "metadata": {},
   "outputs": [],
   "source": [
    "# split the data into a training set and a testing set by calling the .split_data() method\n",
    "# in helper.py. The default text size is 1/3 of the data; you can change this, too.\n",
    "# Mind the output of the method including train_x, train_y, test_x, test_y, and labels\n",
    "\n",
    "# train the model by using train_x and train_y sets.\n",
    "classifier = fitNaiveBayes(train_x, train_y)\n",
    "\n",
    "# classify the test data by using the test_x dataset, and predict the results.\n",
    "predicted = classifier.predict(test_x)\n",
    "\n",
    "# print out the results by calling the printModelSummary()\n",
    "\n",
    "hlp.printModelSummary(test_y, predicted)"
   ]
  },
  {
   "cell_type": "markdown",
   "metadata": {},
   "source": [
    "## Logistic Regression\n",
    "\n",
    "#### Probability and Likelihood\n",
    "\n",
    "The distinction between probability and likelihood is fundamentally important: Probability attaches to possible results; likelihood attaches to hypotheses.\n",
    "\n",
    "#### Loss / Cost Function\n",
    "\n",
    "Maximum likelihood estimation (MLE) is a method of estimating the parameters of a statistical model given observations, by finding the parameter values that maximize the likelihood of making the observations given the parameters.\n",
    "\n",
    "- MLE is consistent with Ordinary Least Square (OLS).\n",
    "- With infinite data, it will estimate the optimal β, and approximate it well for small but robust datasets.\n",
    "- MLE is efficient; no consistent estimator has lower asymptotic mean squared error than MLE.\n",
    "\n",
    "Then why use MLE for Logistic Regression optimisation instead of OLS\n",
    "\n",
    "- MLE is generalizable for regression and classification.\n",
    "- MLE is efficient; no consistent estimator has lower asymptotic error than MLE if you’re using the right distribution.\n",
    "\n",
    "Source: https://towardsdatascience.com/a-gentle-introduction-to-maximum-likelihood-estimation-9fbff27ea12f"
   ]
  },
  {
   "cell_type": "code",
   "execution_count": null,
   "metadata": {},
   "outputs": [],
   "source": [
    "@hlp.timeit\n",
    "\n",
    "def LogitClassifier(X):\n",
    "    \n",
    "    '''\n",
    "        Build a Logistic Regression classifier\n",
    "    '''\n",
    "    \n",
    "    train_X, train_y, test_X, test_y, labels = hlp.split_data(X, y = 'credit_application')\n",
    "    \n",
    "    L = lr()\n",
    "    LF = L.fit(train_X, train_y)\n",
    "    predicted = LF.predict(test_X)\n",
    "    summary = hlp.printModelSummary(test_y, predicted)\n",
    "    \n",
    "    return summary"
   ]
  },
  {
   "cell_type": "code",
   "execution_count": null,
   "metadata": {},
   "outputs": [],
   "source": [
    "# run original data without preprocessing\n",
    "\n",
    "LogitClassifier(data)"
   ]
  },
  {
   "cell_type": "code",
   "execution_count": null,
   "metadata": {},
   "outputs": [],
   "source": [
    "# run data after preprocessing at achieve balance in the target classes\n",
    "\n",
    "LogitClassifier(balanced_data)"
   ]
  },
  {
   "cell_type": "markdown",
   "metadata": {},
   "source": [
    "## Decision Tree"
   ]
  },
  {
   "cell_type": "code",
   "execution_count": null,
   "metadata": {},
   "outputs": [],
   "source": [
    "# define a fitDecisionTree() method and 'decorate' with @hlp.timeit, so we can time\n",
    "# how long it takes to run the model fitting process\n",
    "\n",
    "@hlp.timeit\n",
    "def fitDecisionTree(x,y):\n",
    "    \n",
    "    '''\n",
    "        Build a decision tree classifier\n",
    "    '''\n",
    "    \n",
    "    # create the classifier object\n",
    "    # we specify that any decision node cannot hold less than 1,000 data points\n",
    "    # because we have quite some data\n",
    "    \n",
    "    decision_tree = tree.DecisionTreeClassifier(min_samples_split=1000)\n",
    "\n",
    "    # fit the data\n",
    "    return decision_tree.fit(x,y)"
   ]
  },
  {
   "cell_type": "code",
   "execution_count": null,
   "metadata": {},
   "outputs": [],
   "source": [
    "# train the DT model\n",
    "classifier = fitDecisionTree(train_x, train_y)\n",
    "\n",
    "# classify the test data\n",
    "predicted = classifier.predict(test_x)\n",
    "\n",
    "# print out the results\n",
    "hlp.printModelSummary(test_y, predicted)"
   ]
  },
  {
   "cell_type": "code",
   "execution_count": null,
   "metadata": {},
   "outputs": [],
   "source": [
    "'''\n",
    "# Bagging classifier\n",
    "\n",
    "# Example one\n",
    "bbc = BalancedBaggingClassifier(base_estimator=DecisionTreeClassifier(),\n",
    "                                 sampling_strategy='auto',\n",
    "                                 replacement=False,\n",
    "                                 random_state=0)\n",
    "bbc.fit(X_train, y_train) \n",
    "y_pred = bbc.predict(X_test)\n",
    "balanced_accuracy_score(y_test, y_pred)\n",
    "'''"
   ]
  },
  {
   "cell_type": "markdown",
   "metadata": {},
   "source": [
    "## Ensemble Learning\n",
    "\n",
    "#### Introduction to Ensemble Learning\n",
    "\n",
    "Basic Ensemble Techniques\n",
    "- Max Voting\n",
    "- Averaging\n",
    "- Weighted Average\n",
    "\n",
    "Advanced Ensemble Techniques\n",
    "- Stacking\n",
    "- Blending\n",
    "- Bagging\n",
    "- Boosting\n",
    "\n",
    "Algorithms based on Bagging and Boosting\n",
    "- Bagging meta-estimator\n",
    "- Random Forest\n",
    "- AdaBoost\n",
    "- GBM\n",
    "- XGB\n",
    "- Light GBM\n",
    "- CatBoost"
   ]
  },
  {
   "cell_type": "markdown",
   "metadata": {},
   "source": [
    "## Random Forest"
   ]
  },
  {
   "cell_type": "code",
   "execution_count": null,
   "metadata": {},
   "outputs": [],
   "source": [
    "# We've already imported the following libs:\n",
    "# import helper as hlp\n",
    "# import pandas as pd\n",
    "# import sklearn.tree as sk\n",
    "\n",
    "import sklearn.ensemble as en\n",
    "\n",
    "\n",
    "#define a fitRandomForest() method so we can throw our data into it, time its execution and run the model.\n",
    "\n",
    "@hlp.timeit\n",
    "def fitRandomForest(x,y):\n",
    "    \n",
    "    '''\n",
    "        Build a random forest classifier\n",
    "    '''\n",
    "    \n",
    "    # create the classifier object; minimum 100 samples at each node to perform a split.\n",
    "    # default to form 10 trees in the forest; can be adjusted as wish.\n",
    "    \n",
    "    forest = en.RandomForestClassifier(min_samples_split=100, n_estimators=10)\n",
    "\n",
    "    # fit the data\n",
    "    \n",
    "    return forest.fit(x,y)"
   ]
  },
  {
   "cell_type": "code",
   "execution_count": null,
   "metadata": {},
   "outputs": [],
   "source": [
    "# split the data into training and testing sets as usual.\n",
    "# we still predict on the same Y (credit_application) and use only a sub-set of the whole X.\n",
    "\n",
    "trainForest_x, trainForest_y,testForest_x,  testForest_y, forest_labels = hlp.split_data(\n",
    "    data, \n",
    "    y = 'credit_application',\n",
    "    x = ['n_duration','n_nr_employed',\n",
    "        'prev_ctc_outcome_success','n_euribor3m',\n",
    "        'n_cons_conf_idx','n_age','month_oct',\n",
    "        'n_cons_price_idx','edu_university_degree','n_pdays',\n",
    "        'dow_mon','job_student','job_technician',\n",
    "        'job_housemaid','edu_basic_6y']\n",
    ")"
   ]
  },
  {
   "cell_type": "code",
   "execution_count": null,
   "metadata": {},
   "outputs": [],
   "source": [
    "# Run the Random Forest Classifer\n",
    "forest_classifier = fitRandomForest(trainForest_x, trainForest_y)\n",
    "\n",
    "# classify the testing data set\n",
    "forest_predicted = forest_classifier.predict(testForest_x)\n",
    "\n",
    "# print out the results\n",
    "hlp.printModelSummary(testForest_y, forest_predicted)"
   ]
  },
  {
   "cell_type": "markdown",
   "metadata": {},
   "source": [
    "# 8. Model Building: Unsupervised Learning"
   ]
  },
  {
   "cell_type": "markdown",
   "metadata": {},
   "source": [
    "## K-Means Clustering"
   ]
  },
  {
   "cell_type": "code",
   "execution_count": null,
   "metadata": {},
   "outputs": [],
   "source": [
    "# define the findClusters_Kmeans() method, so we can call it in our Python script\n",
    "\n",
    "@hlp.timeit\n",
    "def findClusters_kmeans(data):\n",
    "    \n",
    "    '''\n",
    "        Cluster data using K-means\n",
    "    '''\n",
    "    \n",
    "    # create the Kmenas classifier object by calling cl.KMeans(); \n",
    "    # by default, we estimate 4 clusters.\n",
    "    # The n_init parameter controls how many models to estimate by KMeans().\n",
    "    \n",
    "    kmeans = c1.KMeans(n_clusters=4,n_jobs=-1,verbose=0,n_init=30)\n",
    "\n",
    "    # fit the data\n",
    "    return kmeans.fit(data)"
   ]
  },
  {
   "cell_type": "code",
   "execution_count": null,
   "metadata": {},
   "outputs": [],
   "source": [
    "# select variables (columns) that we are interested in to cluster\n",
    "\n",
    "selectedVars = data[\n",
    "        ['n_duration',\n",
    "         'n_nr_employed',\n",
    "        'prev_ctc_outcome_success',\n",
    "         'n_euribor3m',\n",
    "        'n_cons_conf_idx',\n",
    "         'n_age','month_oct',\n",
    "        'n_cons_price_idx',\n",
    "         'edu_university_degree',\n",
    "         'n_pdays',\n",
    "        'dow_mon',\n",
    "         'job_student',\n",
    "         'job_technician',\n",
    "        'job_housemaid',\n",
    "         'edu_basic_6y']]"
   ]
  },
  {
   "cell_type": "code",
   "execution_count": null,
   "metadata": {},
   "outputs": [],
   "source": [
    "# cluster the data by calling the method findClusters_kmeans()\n",
    "\n",
    "cluster = findClusters_kmeans(selectedVars)"
   ]
  },
  {
   "cell_type": "code",
   "execution_count": null,
   "metadata": {},
   "outputs": [],
   "source": [
    "# evaluate the clusters effectiveness\n",
    "\n",
    "labels = cluster.labels_\n",
    "centroids = cluster.cluster_centers_\n",
    "\n",
    "# we call the printClustersSummary() from the helper.py script to print out performance metrics for us\n",
    "# check the text for more details on these metrics and how there are calcualted.\n",
    "\n",
    "hlp.printClustersSummary(selectedVars, labels, centroids)"
   ]
  },
  {
   "cell_type": "markdown",
   "metadata": {},
   "source": [
    "# 9. Hyperparameter Tuning and Optimisation\n",
    "\n",
    "Source: https://www.imperial.ac.uk/media/imperial-college/faculty-of-engineering/computing/public/1819-ug-projects/MatacheC-Efficient-Design-of-Machine-Learning-Hyperparameter-Optimizers.pdf\n",
    "\n",
    "Source: https://towardsdatascience.com/algorithms-for-hyperparameter-optimisation-in-python-edda4bdb167"
   ]
  },
  {
   "cell_type": "markdown",
   "metadata": {},
   "source": [
    "## Decision Tree"
   ]
  },
  {
   "cell_type": "code",
   "execution_count": null,
   "metadata": {},
   "outputs": [],
   "source": [
    "@hlp.timeit\n",
    "def Decision_Tree_parameters():\n",
    "    \n",
    "    '''\n",
    "    dataset = datasets.make_classification(n_samples=100, n_features=20, n_informative=5,\n",
    "                n_redundant=2, n_repeated=0, n_classes=2, n_clusters_per_class=2,\n",
    "                weights=None, flip_y=0.01, class_sep=1.0, hypercube=True, shift=0.0,\n",
    "                scale=1.0, shuffle=True, random_state=None)\n",
    "    X = dataset[0]\n",
    "    y = dataset[1]\n",
    "    print(y)\n",
    "    \n",
    "    '''\n",
    "    \n",
    "    # Create an scaler object\n",
    "    sc = StandardScaler()\n",
    "\n",
    "    # Create a pca object\n",
    "    pca = decomposition.PCA()\n",
    "\n",
    "    # Create a logistic regression object with an L2 penalty\n",
    "    dtreeClf = tree.DecisionTreeClassifier()\n",
    "\n",
    "    # Create a pipeline of three steps. First, standardize the data.\n",
    "    # Second, tranform the data with PCA.\n",
    "    # Third, train a Decision Tree Classifier on the data.\n",
    "    pipe = Pipeline(steps=[('sc', sc),\n",
    "                           ('pca', pca),\n",
    "                           ('dtreeClf', dtreeClf)])\n",
    "\n",
    "    # Create Parameter Space\n",
    "    # Create a list of a sequence of integers from 1 to 30 (the number of features in X + 1)\n",
    "    n_components = list(range(1,X.shape[1]+1,1))\n",
    "\n",
    "    # Create lists of parameter for Decision Tree Classifier\n",
    "    \n",
    "    criterion = ['gini', 'entropy']\n",
    "    max_depth = [4,6,8,12]\n",
    "\n",
    "    # Create a dictionary of all the parameter options \n",
    "    # Note has you can access the parameters of steps of a pipeline by using '__’\n",
    "    parameters = dict(pca__n_components=n_components,\n",
    "                      decisiontree__criterion=criterion,\n",
    "                      decisiontree__max_depth=max_depth)\n",
    "\n",
    "    # Conduct Parameter Optmization With Pipeline\n",
    "    # Create a grid search object\n",
    "    clf = GridSearchCV(pipe, parameters)\n",
    "\n",
    "    # Fit the grid search\n",
    "    clf.fit(X, y)\n",
    "\n",
    "    # View The Best Parameters\n",
    "    print('Best Criterion:', clf.best_estimator_.get_params()['decisiontree__criterion'])\n",
    "    print('Best max_depth:', clf.best_estimator_.get_params()['decisiontree__max_depth'])\n",
    "    print('Best Number Of Components:', clf.best_estimator_.get_params()['pca__n_components'])\n",
    "    print(); print(clf.best_estimator_.get_params()['decisiontree'])\n",
    "\n",
    "    # Use Cross Validation To Evaluate Model\n",
    "    CV_Result = cross_val_score(clf, X, y, cv=4, n_jobs=-1)\n",
    "    print(); print(CV_Result)\n",
    "    print(); print(CV_Result.mean())\n",
    "    print(); print(CV_Result.std())"
   ]
  },
  {
   "cell_type": "code",
   "execution_count": null,
   "metadata": {},
   "outputs": [],
   "source": [
    "Decision_Tree_parameters()"
   ]
  },
  {
   "cell_type": "markdown",
   "metadata": {},
   "source": [
    "## Random Forest"
   ]
  },
  {
   "cell_type": "code",
   "execution_count": null,
   "metadata": {},
   "outputs": [],
   "source": [
    "@hlp.timeit\n",
    "\n",
    "n_estimators = [int(x) for x in np.linspace(start = 10, stop = 500, num = 10)]\n",
    "max_features = ['auto', 'sqrt']\n",
    "max_depth = [int(x) for x in np.linspace(3, 10, num = 1)]\n",
    "max_depth.append(None)\n",
    "min_samples_split = [2, 5, 10]\n",
    "min_samples_leaf = [1, 2, 4]\n",
    "bootstrap = [True, False]\n",
    "\n",
    "random_grid = {'n_estimators': n_estimators,\n",
    "               'max_features': max_features,\n",
    "               'max_depth': max_depth,\n",
    "               'min_samples_split': min_samples_split,\n",
    "               'min_samples_leaf': min_samples_leaf,\n",
    "               'bootstrap': bootstrap}\n",
    "\n",
    "rf = RandomForestClassifier()\n",
    "\n",
    "rf_random = RandomizedSearchCV(estimator = rf, param_distributions = random_grid, n_iter = 10, cv = 2, verbose=2, random_state=42, n_jobs = -1)\n",
    "rf_random.fit(features_train, label_train)"
   ]
  },
  {
   "cell_type": "markdown",
   "metadata": {},
   "source": [
    "## Logistic Regression"
   ]
  },
  {
   "cell_type": "code",
   "execution_count": 113,
   "metadata": {},
   "outputs": [],
   "source": [
    "# create a Logistic Regression object \n",
    "\n",
    "clf = lr()"
   ]
  },
  {
   "cell_type": "code",
   "execution_count": 114,
   "metadata": {},
   "outputs": [],
   "source": [
    "# manually set the hyperparameters\n",
    "# for the grid_search_wrapper function\n",
    "\n",
    "param_grid = {\n",
    "    'C': [0.001, 0.01, 0.1, 0.5, 1.0, 5.0, 10.0],\n",
    "    'fit_intercept': [False,True],\n",
    "    'penalty': ['l1', 'l2']\n",
    "}\n",
    "\n",
    "scorers = {\n",
    "    'precision_score': make_scorer(precision_score),\n",
    "    'recall_score': make_scorer(recall_score),\n",
    "    'accuracy_score': make_scorer(accuracy_score)\n",
    "}"
   ]
  },
  {
   "cell_type": "code",
   "execution_count": 115,
   "metadata": {},
   "outputs": [],
   "source": [
    "# create a function that will run grid search to find the parameters\n",
    "# that will optimise the machine learning object\n",
    "# in this case the focus is on the logistic regression model\n",
    "\n",
    "def grid_search_wrapper(refit_score='recall_score'):\n",
    "    \n",
    "    \"\"\"\n",
    "        fits a GridSearchCV classifier using refit_score for optimization\n",
    "        prints classifier performance metrics\n",
    "    \"\"\"\n",
    "    \n",
    "    # scores = cross_val_score(clf, X, y, cv=5)\n",
    "    skf = StratifiedKFold(n_splits=10)\n",
    "    grid_search = GridSearchCV(clf, param_grid, scoring=scorers, refit=refit_score,\n",
    "                           cv=skf, return_train_score=True)\n",
    "    grid_search.fit(train_x.values, train_y.values)\n",
    "\n",
    "    # make the predictions\n",
    "    pred_y = grid_search.predict(test_x.values)\n",
    "\n",
    "    print('Best params for {}'.format(refit_score))\n",
    "    print(grid_search.best_params_)\n",
    "\n",
    "    # confusion matrix on the test data.\n",
    "    print('\\nConfusion matrix of Logistic regression optimised for {} on the test data:'.format(refit_score))\n",
    "    summary = pd.DataFrame(confusion_matrix(test_y, pred_y),\n",
    "                 columns=['pred_neg', 'pred_pos'], index=['neg', 'pos'])\n",
    "    \n",
    "    summary_2 = hlp.printModelSummary(test_y, pred_y)\n",
    "    \n",
    "    return summary, summary_2"
   ]
  },
  {
   "cell_type": "code",
   "execution_count": null,
   "metadata": {},
   "outputs": [],
   "source": [
    "grid_search_wrapper()"
   ]
  },
  {
   "cell_type": "markdown",
   "metadata": {},
   "source": [
    "# Dr. Richard Wu's Logistic Regression Homework"
   ]
  },
  {
   "cell_type": "code",
   "execution_count": null,
   "metadata": {},
   "outputs": [],
   "source": [
    "# get all the parameters of the python logistic regression object\n",
    "\n",
    "lr().get_params().keys()"
   ]
  },
  {
   "cell_type": "code",
   "execution_count": null,
   "metadata": {},
   "outputs": [],
   "source": [
    "sns.countplot(x='credit_application', data=data)"
   ]
  },
  {
   "cell_type": "code",
   "execution_count": 47,
   "metadata": {},
   "outputs": [
    {
     "data": {
      "image/png": "[encoded data removed]",
      "text/plain": [
       "<Figure size 576x576 with 1 Axes>"
      ]
     },
     "metadata": {},
     "output_type": "display_data"
    }
   ],
   "source": [
    "# preprocess the dataset to balance the classes in the target variable\n",
    "# and take a larger sample size\n",
    "\n",
    "# shuffle the dataset and select n observations\n",
    "shuffled_df = data.sample(n=40000,random_state=4, replace=True)\n",
    "\n",
    "# Put all the credit_application in a separate dataset.\n",
    "c_app_df = shuffled_df.loc[shuffled_df['credit_application'] == 1]\n",
    "\n",
    "# Randomly select n observations from the non-fraud (majority class)\n",
    "c_non_app_df = shuffled_df.loc[shuffled_df['credit_application'] == 0].sample(n=4400,random_state=42, replace=True)\n",
    "\n",
    "# Concatenate both dataframes again\n",
    "new_balanced_data = pd.concat([c_app_df, c_non_app_df])\n",
    "\n",
    "# plot the dataset after the undersampling\n",
    "plt.figure(figsize=(8, 8))\n",
    "sns.countplot('credit_application', data=new_balanced_data)\n",
    "plt.title('Balanced Classes')\n",
    "plt.show()"
   ]
  },
  {
   "cell_type": "code",
   "execution_count": 48,
   "metadata": {},
   "outputs": [
    {
     "data": {
      "text/plain": [
       "(8929, 60)"
      ]
     },
     "execution_count": 48,
     "metadata": {},
     "output_type": "execute_result"
    }
   ],
   "source": [
    "new_balanced_data.shape"
   ]
  },
  {
   "cell_type": "code",
   "execution_count": 99,
   "metadata": {},
   "outputs": [],
   "source": [
    "new_balanced_data_2 = shuffle(new_balanced_data)"
   ]
  },
  {
   "cell_type": "code",
   "execution_count": 51,
   "metadata": {},
   "outputs": [
    {
     "name": "stdout",
     "output_type": "stream",
     "text": [
      "Num Features: 8\n",
      "Selected Features: [False  True False  True  True False False False False False False False\n",
      " False False False False False False  True False False False False False\n",
      " False False False False False False False False  True False False False\n",
      " False  True  True False  True False False False False False]\n",
      "Feature Ranking: [ 4  1  6  1  1 19 12  5 14  3 18 21 33 28 34 11 22 37  1 38 24 35 23 31\n",
      " 13 17  2 39 27 26 15 25  1  9 36 10  8  1  1 30  1 29 20 32 16  7]\n"
     ]
    }
   ],
   "source": [
    "# feature extraction using Univariate Selection\n",
    "# select a machine learning model to create an object. In this example logistic regression is chosen.\n",
    "\n",
    "model = lr(solver='lbfgs')\n",
    "rfe = RFE(model, 8)\n",
    "fit = rfe.fit(X, y)\n",
    "\n",
    "print(\"Num Features: %d\" % fit.n_features_)\n",
    "print(\"Selected Features: %s\" % fit.support_)\n",
    "print(\"Feature Ranking: %s\" % fit.ranking_)"
   ]
  },
  {
   "cell_type": "code",
   "execution_count": 98,
   "metadata": {},
   "outputs": [
    {
     "data": {
      "text/html": [
       "<div>\n",
       "<style scoped>\n",
       "    .dataframe tbody tr th:only-of-type {\n",
       "        vertical-align: middle;\n",
       "    }\n",
       "\n",
       "    .dataframe tbody tr th {\n",
       "        vertical-align: top;\n",
       "    }\n",
       "\n",
       "    .dataframe thead th {\n",
       "        text-align: right;\n",
       "    }\n",
       "</style>\n",
       "<table border=\"1\" class=\"dataframe\">\n",
       "  <thead>\n",
       "    <tr style=\"text-align: right;\">\n",
       "      <th></th>\n",
       "    </tr>\n",
       "  </thead>\n",
       "  <tbody>\n",
       "    <tr>\n",
       "      <th>n_duration</th>\n",
       "    </tr>\n",
       "    <tr>\n",
       "      <th>n_previous</th>\n",
       "    </tr>\n",
       "    <tr>\n",
       "      <th>n_euribor3m</th>\n",
       "    </tr>\n",
       "    <tr>\n",
       "      <th>job_retired</th>\n",
       "    </tr>\n",
       "    <tr>\n",
       "      <th>default_unknown</th>\n",
       "    </tr>\n",
       "    <tr>\n",
       "      <th>contact_telephone</th>\n",
       "    </tr>\n",
       "    <tr>\n",
       "      <th>prev_ctc_outcome_success</th>\n",
       "    </tr>\n",
       "    <tr>\n",
       "      <th>month_mar</th>\n",
       "    </tr>\n",
       "    <tr>\n",
       "      <th>month_may</th>\n",
       "    </tr>\n",
       "    <tr>\n",
       "      <th>month_oct</th>\n",
       "    </tr>\n",
       "  </tbody>\n",
       "</table>\n",
       "</div>"
      ],
      "text/plain": [
       "Empty DataFrame\n",
       "Columns: []\n",
       "Index: [n_duration, n_previous, n_euribor3m, job_retired, default_unknown, contact_telephone, prev_ctc_outcome_success, month_mar, month_may, month_oct]"
      ]
     },
     "execution_count": 98,
     "metadata": {},
     "output_type": "execute_result"
    }
   ],
   "source": [
    "features_df_new.head(0).T"
   ]
  },
  {
   "cell_type": "code",
   "execution_count": null,
   "metadata": {},
   "outputs": [],
   "source": [
    "d = new_balanced_data[['n_duration', \n",
    "                       'n_pdays', \n",
    "                       'n_previous', \n",
    "                       'n_emp_var_rate', \n",
    "                       'n_euribor3m', \n",
    "                       'n_nr_employed',\n",
    "                       'contact_cellular',\n",
    "                       'contact_telephone',\n",
    "                       'prev_ctc_outcome_nonexistent',\n",
    "                       'prev_ctc_outcome_success',\n",
    "                       'credit_application']]"
   ]
  },
  {
   "cell_type": "code",
   "execution_count": null,
   "metadata": {},
   "outputs": [],
   "source": [
    "train_x, train_y, test_x, test_y, labels = hlp.split_data(d, y='credit_application')"
   ]
  },
  {
   "cell_type": "code",
   "execution_count": 100,
   "metadata": {},
   "outputs": [],
   "source": [
    "# top 10 predictors and target after removing collinear features and scoring predictors\n",
    "\n",
    "dd = new_balanced_data_2[['n_duration',\n",
    "                        'n_previous',\n",
    "                        'n_euribor3m',\n",
    "                        'job_retired',\n",
    "                        'default_unknown',\n",
    "                        'contact_telephone',\n",
    "                        'prev_ctc_outcome_success',\n",
    "                        'month_mar',\n",
    "                        'month_may',\n",
    "                        'month_oct',\n",
    "                        'credit_application']]"
   ]
  },
  {
   "cell_type": "code",
   "execution_count": 101,
   "metadata": {},
   "outputs": [],
   "source": [
    "train_x, train_y, test_x, test_y, labels = hlp.split_data(dd, y='credit_application')"
   ]
  },
  {
   "cell_type": "code",
   "execution_count": 102,
   "metadata": {},
   "outputs": [
    {
     "name": "stdout",
     "output_type": "stream",
     "text": [
      "Overall accuracy of the model is 87.16 percent\n",
      "Classification report: \n",
      "               precision    recall  f1-score   support\n",
      "\n",
      "         0.0       0.90      0.83      0.86      1429\n",
      "         1.0       0.85      0.91      0.88      1499\n",
      "\n",
      "    accuracy                           0.87      2928\n",
      "   macro avg       0.87      0.87      0.87      2928\n",
      "weighted avg       0.87      0.87      0.87      2928\n",
      "\n",
      "Confusion matrix: \n",
      " [[1191  238]\n",
      " [ 138 1361]]\n",
      "ROC:  0.8706942953804986\n"
     ]
    }
   ],
   "source": [
    "# input parameter values for the logistic regression object \n",
    "# base on values obtained from hyperparameter tuning\n",
    "L = lr(C=5.0, fit_intercept=False, penalty='l1')\n",
    "\n",
    "# train the model\n",
    "LF = L.fit(train_x, train_y)\n",
    "\n",
    "# output \n",
    "predicted = LF.predict(test_x)\n",
    "\n",
    "# output summary evaluation of metrics\n",
    "summary = hlp.printModelSummary(test_y, predicted)"
   ]
  },
  {
   "cell_type": "code",
   "execution_count": null,
   "metadata": {},
   "outputs": [],
   "source": [
    "# optimise recall\n",
    "\n",
    "grid_search_wrapper()"
   ]
  },
  {
   "cell_type": "markdown",
   "metadata": {},
   "source": [
    "## Dr. Richard Wu's Logistic Regression Homework: Removed Collinear Features"
   ]
  },
  {
   "cell_type": "code",
   "execution_count": 103,
   "metadata": {},
   "outputs": [
    {
     "name": "stdout",
     "output_type": "stream",
     "text": [
      "Overall accuracy of the model is 87.16 percent\n",
      "Classification report: \n",
      "               precision    recall  f1-score   support\n",
      "\n",
      "         0.0       0.90      0.83      0.86      1429\n",
      "         1.0       0.85      0.91      0.88      1499\n",
      "\n",
      "    accuracy                           0.87      2928\n",
      "   macro avg       0.87      0.87      0.87      2928\n",
      "weighted avg       0.87      0.87      0.87      2928\n",
      "\n",
      "Confusion matrix: \n",
      " [[1191  238]\n",
      " [ 138 1361]]\n",
      "ROC:  0.8706942953804986\n"
     ]
    }
   ],
   "source": [
    "# REMOVED COLLINEAR FEATURES\n",
    "\n",
    "# input parameter values for the logistic regression object \n",
    "# base on values obtained from hyperparameter tuning\n",
    "L = lr(C=5.0, fit_intercept=False, penalty='l1')\n",
    "\n",
    "# train the model\n",
    "LF = L.fit(train_x, train_y)\n",
    "\n",
    "# output \n",
    "predicted = LF.predict(test_x)\n",
    "\n",
    "# output summary evaluation of metrics\n",
    "summary = hlp.printModelSummary(test_y, predicted)"
   ]
  },
  {
   "cell_type": "code",
   "execution_count": 116,
   "metadata": {},
   "outputs": [
    {
     "name": "stdout",
     "output_type": "stream",
     "text": [
      "Best params for recall_score\n",
      "{'C': 5.0, 'fit_intercept': False, 'penalty': 'l1'}\n",
      "\n",
      "Confusion matrix of Logistic regression optimised for recall_score on the test data:\n",
      "Overall accuracy of the model is 87.16 percent\n",
      "Classification report: \n",
      "               precision    recall  f1-score   support\n",
      "\n",
      "         0.0       0.90      0.83      0.86      1429\n",
      "         1.0       0.85      0.91      0.88      1499\n",
      "\n",
      "    accuracy                           0.87      2928\n",
      "   macro avg       0.87      0.87      0.87      2928\n",
      "weighted avg       0.87      0.87      0.87      2928\n",
      "\n",
      "Confusion matrix: \n",
      " [[1191  238]\n",
      " [ 138 1361]]\n",
      "ROC:  0.8706942953804986\n"
     ]
    },
    {
     "data": {
      "text/plain": [
       "(     pred_neg  pred_pos\n",
       " neg      1191       238\n",
       " pos       138      1361, None)"
      ]
     },
     "execution_count": 116,
     "metadata": {},
     "output_type": "execute_result"
    }
   ],
   "source": [
    "grid_search_wrapper()"
   ]
  },
  {
   "cell_type": "code",
   "execution_count": 110,
   "metadata": {},
   "outputs": [],
   "source": [
    "features =  dd.drop(['credit_application'], axis=1)\n",
    "target = dd['credit_application']"
   ]
  },
  {
   "cell_type": "code",
   "execution_count": 124,
   "metadata": {},
   "outputs": [
    {
     "name": "stdout",
     "output_type": "stream",
     "text": [
      "[0.87306843 0.89514349 0.86313466 0.88300221 0.87513812]\n"
     ]
    }
   ],
   "source": [
    "L = lr(C=5.0, fit_intercept=False, penalty='l1')\n",
    "\n",
    "scores = cross_val_score(clf, features, target, cv=5, scoring='recall')\n",
    "print(scores)"
   ]
  },
  {
   "cell_type": "code",
   "execution_count": 123,
   "metadata": {},
   "outputs": [
    {
     "data": {
      "text/plain": [
       "(8929, 11)"
      ]
     },
     "execution_count": 123,
     "metadata": {},
     "output_type": "execute_result"
    }
   ],
   "source": [
    "features.shape"
   ]
  },
  {
   "cell_type": "markdown",
   "metadata": {},
   "source": [
    "# 10. Model Evaluation\n",
    "\n",
    "Metrics for evaluating predicted class labels:\n",
    "\n",
    "- Accuracy\n",
    "- Recall\n",
    "- Precision\n",
    "- Specificity\n",
    "- Sensitivity\n",
    "- G-Mean\n",
    "- F1-Measure\n",
    "- F0.5-Measure\n",
    "- F2-Measure\n",
    "\n",
    "Metrics for evaluating predicted probabilities:\n",
    "\n",
    "- ROC Area Under Curve (ROC AUC).\n",
    "- Precision Recall Area Under Curve (PR AUC).\n",
    "- Brier Score\n",
    "- Matthews correlation coefficient (MCC)\n",
    "\n",
    "<b> AUC </b>: \"Area under the ROC Curve.\" That is, AUC measures the entire two-dimensional area underneath the entire ROC curve (think integral calculus) from (0,0) to (1,1).\n",
    "\n",
    "Source: https://scikit-learn.org/stable/modules/clustering.html#clustering-performance-evaluation\n",
    "\n",
    "Source: https://developers.google.com/machine-learning/crash-course/classification/precision-and-recall\n",
    "\n",
    "Source: https://towardsdatascience.com/beyond-accuracy-precision-and-recall-3da06bea9f6c\n",
    "\n",
    "Source: https://developers.google.com/machine-learning/crash-course/classification/roc-and-auc"
   ]
  },
  {
   "cell_type": "code",
   "execution_count": null,
   "metadata": {},
   "outputs": [],
   "source": [
    "pd.crosstab(label_train,pd.Series(pred_train),rownames=['ACTUAL'],colnames=['PRED'])"
   ]
  },
  {
   "cell_type": "markdown",
   "metadata": {},
   "source": [
    "## ROC/AUC\n",
    "\n",
    "- Receiver Operating Characteristic (ROC): Probability curve\n",
    "\n",
    "- Area Under the Curve (AUC): Represents degree or measure of separability. The higher the AUC, better the model is at predicting 0s as 0s and 1s as 1s. When AUC is 0.7 for example, it means there is 70% chance that model will be able to distinguish between positive class and negative class.\n",
    "\n",
    "Source: https://towardsdatascience.com/end-to-end-python-framework-for-predictive-modeling-b8052bb96a78\n",
    "\n",
    "Source: https://towardsdatascience.com/understanding-auc-roc-curve-68b2303cc9c5\n",
    "\n",
    "Source: https://towardsdatascience.com/understanding-confusion-matrix-a9ad42dcfd62"
   ]
  },
  {
   "cell_type": "code",
   "execution_count": null,
   "metadata": {},
   "outputs": [],
   "source": [
    "from bokeh.charts import Histogram\n",
    "from ipywidgets import interact\n",
    "from bokeh.plotting import figure\n",
    "from bokeh.io import push_notebook, show, output_notebook\n",
    "output_notebook()\n",
    "from sklearn import metrics"
   ]
  },
  {
   "cell_type": "code",
   "execution_count": null,
   "metadata": {},
   "outputs": [],
   "source": [
    "preds = clf.predict_proba(features_train)[:,1]\n",
    "fpr, tpr, _ = metrics.roc_curve(np.array(label_train), preds)\n",
    "\n",
    "auc = metrics.auc(fpr,tpr)\n",
    "\n",
    "p = figure(title=\"ROC Curve - Train data\")\n",
    "r = p.line(fpr,tpr,color='#0077bc',legend = 'AUC = '+ str(round(auc,3)), line_width=2)\n",
    "s = p.line([0,1],[0,1], color= '#d15555',line_dash='dotdash',line_width=2)\n",
    "show(p)"
   ]
  },
  {
   "cell_type": "markdown",
   "metadata": {},
   "source": [
    "## Decile Plots and Kolmogorov Smirnov (KS) Statistic\n",
    "\n",
    "Source: https://towardsdatascience.com/end-to-end-python-framework-for-predictive-modeling-b8052bb96a78"
   ]
  },
  {
   "cell_type": "markdown",
   "metadata": {},
   "source": [
    "## Notes: Target Leakage\n",
    "\n",
    "Target leakage occurs when a variable that is not a feature is used to predict the target.\n",
    "\n",
    "For example, if your training dataset that was normalized or standardized using missing value imputation (such as min, max, mean) - such that the training dataset had full knowledge of the distribution of data in the training dataset. An unseen dataset would not have any knowledge of the distribution of data in the dataset - that is, a row in the unseen dataset would not know if there were three records or three million other records. It wouldn't be able to normalize or standardize itself using unseen data. As a result, the model ends up overfitting to the training data and produces a higher accuracy when run on unseen data than it would if the model had not fit the training dataset so well (too well).\n",
    "\n",
    "Source: http://downloads.alteryx.com/betawh_xnext/MachineLearning/MLTargetLeakage.htm"
   ]
  },
  {
   "cell_type": "code",
   "execution_count": null,
   "metadata": {},
   "outputs": [],
   "source": []
  }
 ],
 "metadata": {
  "kernelspec": {
   "display_name": "Python 3",
   "language": "python",
   "name": "python3"
  },
  "language_info": {
   "codemirror_mode": {
    "name": "ipython",
    "version": 3
   },
   "file_extension": ".py",
   "mimetype": "text/x-python",
   "name": "python",
   "nbconvert_exporter": "python",
   "pygments_lexer": "ipython3",
   "version": "3.7.1"
  }
 },
 "nbformat": 4,
 "nbformat_minor": 2
}
